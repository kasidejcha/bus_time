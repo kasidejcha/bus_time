{
  "cells": [
    {
      "cell_type": "markdown",
      "metadata": {
        "id": "RarpQoIXO-4f"
      },
      "source": [
        "# Import Library"
      ]
    },
    {
      "cell_type": "code",
      "execution_count": 1,
      "metadata": {
        "id": "2NoCtjWLO-4g"
      },
      "outputs": [],
      "source": [
        "import pandas as pd\n",
        "import numpy as np\n",
        "import tensorflow as tf\n",
        "from tensorflow.keras.models import Sequential\n",
        "from tensorflow.keras.layers import *\n",
        "from tensorflow.keras import optimizers"
      ]
    },
    {
      "cell_type": "code",
      "source": [
        "from google.colab import drive\n",
        "drive.mount('/content/drive')"
      ],
      "metadata": {
        "colab": {
          "base_uri": "https://localhost:8080/"
        },
        "id": "EQwd9jMfepJw",
        "outputId": "2359585a-7fc4-4193-fe59-284cda2f54e2"
      },
      "execution_count": 2,
      "outputs": [
        {
          "output_type": "stream",
          "name": "stdout",
          "text": [
            "Drive already mounted at /content/drive; to attempt to forcibly remount, call drive.mount(\"/content/drive\", force_remount=True).\n"
          ]
        }
      ]
    },
    {
      "cell_type": "markdown",
      "metadata": {
        "id": "TR0tWRaTO-4h"
      },
      "source": [
        "# Preprocessing"
      ]
    },
    {
      "cell_type": "code",
      "execution_count": 3,
      "metadata": {
        "colab": {
          "base_uri": "https://localhost:8080/"
        },
        "id": "6P-tTkCqO-4i",
        "outputId": "e171e8cc-b1dc-44ae-d248-b6626e26a56f"
      },
      "outputs": [
        {
          "output_type": "execute_result",
          "data": {
            "text/plain": [
              "(   Average travel time (min)        date  link\n",
              " 0                  97.496377  2015-01-01  17:0\n",
              " 1                 196.464871  2015-01-01   0:4\n",
              " 2                 295.190476  2015-01-01   4:6,\n",
              "      Average travel time (min)        date link\n",
              " 327                 281.385621  2020-06-01  4:6\n",
              " 328                 191.181373  2020-06-01  6:3\n",
              " 329                 123.992327  2020-06-01  3:0)"
            ]
          },
          "metadata": {},
          "execution_count": 3
        }
      ],
      "source": [
        "df = pd.read_csv('/content/drive/MyDrive/Dataset/bus_time/dataset.csv')\n",
        "df.head(3), df.tail(3)"
      ]
    },
    {
      "cell_type": "code",
      "execution_count": 4,
      "metadata": {
        "colab": {
          "base_uri": "https://localhost:8080/"
        },
        "id": "OC6fq56kO-4k",
        "outputId": "c3f69c3e-9aa0-4139-9687-711b54961a77"
      },
      "outputs": [
        {
          "output_type": "execute_result",
          "data": {
            "text/plain": [
              "(array(['17:0', '0:4', '4:6', '6:3', '3:0'], dtype=object), 5)"
            ]
          },
          "metadata": {},
          "execution_count": 4
        }
      ],
      "source": [
        "df['link'].unique(), len(df['link'].unique())"
      ]
    },
    {
      "cell_type": "code",
      "execution_count": 5,
      "metadata": {
        "colab": {
          "base_uri": "https://localhost:8080/",
          "height": 455
        },
        "id": "jo05SNjyO-4k",
        "outputId": "19753d11-7d02-4159-f89d-517714f744b8"
      },
      "outputs": [
        {
          "output_type": "execute_result",
          "data": {
            "text/plain": [
              "                   0:4        17:0         3:0         4:6         6:3\n",
              "date                                                                  \n",
              "2015-01-01  196.464871   97.496377  120.291801  295.190476  191.139286\n",
              "2015-02-01  196.354369   97.368735  120.431304  298.144330  193.148000\n",
              "2015-03-01  199.736585   99.058394  121.882997  298.211268  193.826087\n",
              "2015-04-01  199.399103   97.729399  120.936909  297.732394  193.895911\n",
              "2015-05-01  198.408991   97.530474  120.757258  296.504587  193.298182\n",
              "...                ...         ...         ...         ...         ...\n",
              "2020-02-01  200.912351   99.187831  120.417085  282.523810  187.873077\n",
              "2020-03-01  201.477848   98.978261  120.000000  283.630000  187.591549\n",
              "2020-04-01  190.777778  102.928571  124.982456  283.630000  176.478261\n",
              "2020-05-01  197.241206  103.240000  124.469767  278.765625  197.888889\n",
              "2020-06-01  200.052910  103.027027  123.992327  281.385621  191.181373\n",
              "\n",
              "[66 rows x 5 columns]"
            ],
            "text/html": [
              "\n",
              "  <div id=\"df-1a5a9360-8b15-4460-8762-0d01aed2723b\">\n",
              "    <div class=\"colab-df-container\">\n",
              "      <div>\n",
              "<style scoped>\n",
              "    .dataframe tbody tr th:only-of-type {\n",
              "        vertical-align: middle;\n",
              "    }\n",
              "\n",
              "    .dataframe tbody tr th {\n",
              "        vertical-align: top;\n",
              "    }\n",
              "\n",
              "    .dataframe thead th {\n",
              "        text-align: right;\n",
              "    }\n",
              "</style>\n",
              "<table border=\"1\" class=\"dataframe\">\n",
              "  <thead>\n",
              "    <tr style=\"text-align: right;\">\n",
              "      <th></th>\n",
              "      <th>0:4</th>\n",
              "      <th>17:0</th>\n",
              "      <th>3:0</th>\n",
              "      <th>4:6</th>\n",
              "      <th>6:3</th>\n",
              "    </tr>\n",
              "    <tr>\n",
              "      <th>date</th>\n",
              "      <th></th>\n",
              "      <th></th>\n",
              "      <th></th>\n",
              "      <th></th>\n",
              "      <th></th>\n",
              "    </tr>\n",
              "  </thead>\n",
              "  <tbody>\n",
              "    <tr>\n",
              "      <th>2015-01-01</th>\n",
              "      <td>196.464871</td>\n",
              "      <td>97.496377</td>\n",
              "      <td>120.291801</td>\n",
              "      <td>295.190476</td>\n",
              "      <td>191.139286</td>\n",
              "    </tr>\n",
              "    <tr>\n",
              "      <th>2015-02-01</th>\n",
              "      <td>196.354369</td>\n",
              "      <td>97.368735</td>\n",
              "      <td>120.431304</td>\n",
              "      <td>298.144330</td>\n",
              "      <td>193.148000</td>\n",
              "    </tr>\n",
              "    <tr>\n",
              "      <th>2015-03-01</th>\n",
              "      <td>199.736585</td>\n",
              "      <td>99.058394</td>\n",
              "      <td>121.882997</td>\n",
              "      <td>298.211268</td>\n",
              "      <td>193.826087</td>\n",
              "    </tr>\n",
              "    <tr>\n",
              "      <th>2015-04-01</th>\n",
              "      <td>199.399103</td>\n",
              "      <td>97.729399</td>\n",
              "      <td>120.936909</td>\n",
              "      <td>297.732394</td>\n",
              "      <td>193.895911</td>\n",
              "    </tr>\n",
              "    <tr>\n",
              "      <th>2015-05-01</th>\n",
              "      <td>198.408991</td>\n",
              "      <td>97.530474</td>\n",
              "      <td>120.757258</td>\n",
              "      <td>296.504587</td>\n",
              "      <td>193.298182</td>\n",
              "    </tr>\n",
              "    <tr>\n",
              "      <th>...</th>\n",
              "      <td>...</td>\n",
              "      <td>...</td>\n",
              "      <td>...</td>\n",
              "      <td>...</td>\n",
              "      <td>...</td>\n",
              "    </tr>\n",
              "    <tr>\n",
              "      <th>2020-02-01</th>\n",
              "      <td>200.912351</td>\n",
              "      <td>99.187831</td>\n",
              "      <td>120.417085</td>\n",
              "      <td>282.523810</td>\n",
              "      <td>187.873077</td>\n",
              "    </tr>\n",
              "    <tr>\n",
              "      <th>2020-03-01</th>\n",
              "      <td>201.477848</td>\n",
              "      <td>98.978261</td>\n",
              "      <td>120.000000</td>\n",
              "      <td>283.630000</td>\n",
              "      <td>187.591549</td>\n",
              "    </tr>\n",
              "    <tr>\n",
              "      <th>2020-04-01</th>\n",
              "      <td>190.777778</td>\n",
              "      <td>102.928571</td>\n",
              "      <td>124.982456</td>\n",
              "      <td>283.630000</td>\n",
              "      <td>176.478261</td>\n",
              "    </tr>\n",
              "    <tr>\n",
              "      <th>2020-05-01</th>\n",
              "      <td>197.241206</td>\n",
              "      <td>103.240000</td>\n",
              "      <td>124.469767</td>\n",
              "      <td>278.765625</td>\n",
              "      <td>197.888889</td>\n",
              "    </tr>\n",
              "    <tr>\n",
              "      <th>2020-06-01</th>\n",
              "      <td>200.052910</td>\n",
              "      <td>103.027027</td>\n",
              "      <td>123.992327</td>\n",
              "      <td>281.385621</td>\n",
              "      <td>191.181373</td>\n",
              "    </tr>\n",
              "  </tbody>\n",
              "</table>\n",
              "<p>66 rows × 5 columns</p>\n",
              "</div>\n",
              "      <button class=\"colab-df-convert\" onclick=\"convertToInteractive('df-1a5a9360-8b15-4460-8762-0d01aed2723b')\"\n",
              "              title=\"Convert this dataframe to an interactive table.\"\n",
              "              style=\"display:none;\">\n",
              "        \n",
              "  <svg xmlns=\"http://www.w3.org/2000/svg\" height=\"24px\"viewBox=\"0 0 24 24\"\n",
              "       width=\"24px\">\n",
              "    <path d=\"M0 0h24v24H0V0z\" fill=\"none\"/>\n",
              "    <path d=\"M18.56 5.44l.94 2.06.94-2.06 2.06-.94-2.06-.94-.94-2.06-.94 2.06-2.06.94zm-11 1L8.5 8.5l.94-2.06 2.06-.94-2.06-.94L8.5 2.5l-.94 2.06-2.06.94zm10 10l.94 2.06.94-2.06 2.06-.94-2.06-.94-.94-2.06-.94 2.06-2.06.94z\"/><path d=\"M17.41 7.96l-1.37-1.37c-.4-.4-.92-.59-1.43-.59-.52 0-1.04.2-1.43.59L10.3 9.45l-7.72 7.72c-.78.78-.78 2.05 0 2.83L4 21.41c.39.39.9.59 1.41.59.51 0 1.02-.2 1.41-.59l7.78-7.78 2.81-2.81c.8-.78.8-2.07 0-2.86zM5.41 20L4 18.59l7.72-7.72 1.47 1.35L5.41 20z\"/>\n",
              "  </svg>\n",
              "      </button>\n",
              "      \n",
              "  <style>\n",
              "    .colab-df-container {\n",
              "      display:flex;\n",
              "      flex-wrap:wrap;\n",
              "      gap: 12px;\n",
              "    }\n",
              "\n",
              "    .colab-df-convert {\n",
              "      background-color: #E8F0FE;\n",
              "      border: none;\n",
              "      border-radius: 50%;\n",
              "      cursor: pointer;\n",
              "      display: none;\n",
              "      fill: #1967D2;\n",
              "      height: 32px;\n",
              "      padding: 0 0 0 0;\n",
              "      width: 32px;\n",
              "    }\n",
              "\n",
              "    .colab-df-convert:hover {\n",
              "      background-color: #E2EBFA;\n",
              "      box-shadow: 0px 1px 2px rgba(60, 64, 67, 0.3), 0px 1px 3px 1px rgba(60, 64, 67, 0.15);\n",
              "      fill: #174EA6;\n",
              "    }\n",
              "\n",
              "    [theme=dark] .colab-df-convert {\n",
              "      background-color: #3B4455;\n",
              "      fill: #D2E3FC;\n",
              "    }\n",
              "\n",
              "    [theme=dark] .colab-df-convert:hover {\n",
              "      background-color: #434B5C;\n",
              "      box-shadow: 0px 1px 3px 1px rgba(0, 0, 0, 0.15);\n",
              "      filter: drop-shadow(0px 1px 2px rgba(0, 0, 0, 0.3));\n",
              "      fill: #FFFFFF;\n",
              "    }\n",
              "  </style>\n",
              "\n",
              "      <script>\n",
              "        const buttonEl =\n",
              "          document.querySelector('#df-1a5a9360-8b15-4460-8762-0d01aed2723b button.colab-df-convert');\n",
              "        buttonEl.style.display =\n",
              "          google.colab.kernel.accessAllowed ? 'block' : 'none';\n",
              "\n",
              "        async function convertToInteractive(key) {\n",
              "          const element = document.querySelector('#df-1a5a9360-8b15-4460-8762-0d01aed2723b');\n",
              "          const dataTable =\n",
              "            await google.colab.kernel.invokeFunction('convertToInteractive',\n",
              "                                                     [key], {});\n",
              "          if (!dataTable) return;\n",
              "\n",
              "          const docLinkHtml = 'Like what you see? Visit the ' +\n",
              "            '<a target=\"_blank\" href=https://colab.research.google.com/notebooks/data_table.ipynb>data table notebook</a>'\n",
              "            + ' to learn more about interactive tables.';\n",
              "          element.innerHTML = '';\n",
              "          dataTable['output_type'] = 'display_data';\n",
              "          await google.colab.output.renderOutput(dataTable, element);\n",
              "          const docLink = document.createElement('div');\n",
              "          docLink.innerHTML = docLinkHtml;\n",
              "          element.appendChild(docLink);\n",
              "        }\n",
              "      </script>\n",
              "    </div>\n",
              "  </div>\n",
              "  "
            ]
          },
          "metadata": {},
          "execution_count": 5
        }
      ],
      "source": [
        "data = df.pivot(index = 'date',columns ='link', values =['Average travel time (min)'])\n",
        "link_col = [data.columns[i][1] for i in range(len(data.columns))]\n",
        "data.columns = link_col\n",
        "data.index = pd.to_datetime(data.index)\n",
        "data"
      ]
    },
    {
      "cell_type": "code",
      "source": [
        "data.plot(figsize=(10,7))"
      ],
      "metadata": {
        "colab": {
          "base_uri": "https://localhost:8080/",
          "height": 459
        },
        "id": "CVY0teAuWJMr",
        "outputId": "e7fad0f0-f1b4-45ea-90f6-469e0334ef3b"
      },
      "execution_count": 6,
      "outputs": [
        {
          "output_type": "execute_result",
          "data": {
            "text/plain": [
              "<matplotlib.axes._subplots.AxesSubplot at 0x7fa17d902650>"
            ]
          },
          "metadata": {},
          "execution_count": 6
        },
        {
          "output_type": "display_data",
          "data": {
            "text/plain": [
              "<Figure size 720x504 with 1 Axes>"
            ],
            "image/png": "[encoded data removed]"
          },
          "metadata": {
            "needs_background": "light"
          }
        }
      ]
    },
    {
      "cell_type": "code",
      "source": [
        "output = (data-data.mean())/data.std()\n",
        "mean=[]\n",
        "std=[]\n",
        "for i in range(len(data.columns)):\n",
        "  mean.append(data.iloc[:,i].mean())\n",
        "  std.append(data.iloc[:,i].std())"
      ],
      "metadata": {
        "id": "APTzVu6KMxXH"
      },
      "execution_count": 7,
      "outputs": []
    },
    {
      "cell_type": "code",
      "source": [
        "# temp = data.reset_index()\n",
        "# date = pd.DataFrame(temp['date'])\n",
        "# date['month'] = pd.to_datetime(temp['date']).dt.month\n",
        "# date['year'] = pd.to_datetime(temp['date']).dt.year\n",
        "# date = date.drop(['date'], axis=1)\n",
        "# temp['date'] = pd.to_datetime(temp['date']).dt.month\n",
        "# temp_mean = temp.groupby(temp.date).mean()\n",
        "# temp_std = temp.groupby(temp.date).std()\n",
        "# temp = temp.set_index('date')\n",
        "# date.head()"
      ],
      "metadata": {
        "id": "5UGNMtDFjAmh"
      },
      "execution_count": 8,
      "outputs": []
    },
    {
      "cell_type": "code",
      "source": [
        "# for i in range(len(temp_std)):\n",
        "#   if i == 0:\n",
        "#     out = (temp[temp.index==i+1]-temp_mean[temp_mean.index==i+1])/temp_std[temp_std.index==i+1]\n",
        "#     out['year'] = date[date['month']==i+1]['year'].values.tolist()\n",
        "#     output = out.copy()\n",
        "#   else:\n",
        "#     out = (temp[temp.index==i+1]-temp_mean[temp_mean.index==i+1])/temp_std[temp_std.index==i+1]\n",
        "#     out['year'] = date[date['month']==i+1]['year'].values.tolist()\n",
        "#     output = pd.concat([output, out])\n",
        "# output = output.reset_index()\n",
        "# output['date'] = pd.to_datetime(output.year.astype(str) + '-' + output.date.astype(str))\n",
        "# output = output.drop(['year'], axis=1).set_index('date').sort_values('date')\n",
        "# output"
      ],
      "metadata": {
        "id": "s--NvRapQyd5"
      },
      "execution_count": 9,
      "outputs": []
    },
    {
      "cell_type": "code",
      "execution_count": 10,
      "metadata": {
        "colab": {
          "base_uri": "https://localhost:8080/"
        },
        "id": "pdF7UQzQO-4l",
        "outputId": "a1526e15-07b0-47ab-a3db-10b11c1875f8"
      },
      "outputs": [
        {
          "output_type": "execute_result",
          "data": {
            "text/plain": [
              "((58, 5, 5, 1, 1), (58, 3, 5, 1, 1))"
            ]
          },
          "metadata": {},
          "execution_count": 10
        }
      ],
      "source": [
        "lags = 5\n",
        "preds = 3\n",
        "data = output.copy()\n",
        "x = np.stack([np.roll(data, i, axis = 0) for i in range(lags, 0, -1)], axis = 1)[lags:-preds,:,:,np.newaxis,np.newaxis]\n",
        "y = np.stack([np.roll(data, -i, axis = 0) for i in range(0, preds, 1)], axis = 1)[lags:-preds,:,:,np.newaxis,np.newaxis]\n",
        "x.shape, y.shape"
      ]
    },
    {
      "cell_type": "code",
      "source": [
        "data.plot(figsize=(10,7))"
      ],
      "metadata": {
        "colab": {
          "base_uri": "https://localhost:8080/",
          "height": 459
        },
        "id": "dI1-FeJKXBiV",
        "outputId": "1decd11c-64b5-42e6-abb0-cf56f5f7f36a"
      },
      "execution_count": 11,
      "outputs": [
        {
          "output_type": "execute_result",
          "data": {
            "text/plain": [
              "<matplotlib.axes._subplots.AxesSubplot at 0x7fa17d33a610>"
            ]
          },
          "metadata": {},
          "execution_count": 11
        },
        {
          "output_type": "display_data",
          "data": {
            "text/plain": [
              "<Figure size 720x504 with 1 Axes>"
            ],
            "image/png": "[encoded data removed]"
          },
          "metadata": {
            "needs_background": "light"
          }
        }
      ]
    },
    {
      "cell_type": "markdown",
      "metadata": {
        "id": "MllJ6CD8O-4m"
      },
      "source": [
        "# Modelling"
      ]
    },
    {
      "cell_type": "code",
      "execution_count": 12,
      "metadata": {
        "colab": {
          "base_uri": "https://localhost:8080/"
        },
        "id": "mAoNtc8tO-4m",
        "outputId": "65d22aea-b9b9-415f-badc-49f87b518493"
      },
      "outputs": [
        {
          "output_type": "stream",
          "name": "stdout",
          "text": [
            "Model: \"sequential\"\n",
            "_________________________________________________________________\n",
            " Layer (type)                Output Shape              Param #   \n",
            "=================================================================\n",
            " batch_norm_0 (BatchNormaliz  (None, 5, 5, 1, 1)       4         \n",
            " ation)                                                          \n",
            "                                                                 \n",
            " conv_lstm_1 (ConvLSTM2D)    (None, 5, 5, 1, 64)       83456     \n",
            "                                                                 \n",
            " dropout_1 (Dropout)         (None, 5, 5, 1, 64)       0         \n",
            "                                                                 \n",
            " batch_norm_1 (BatchNormaliz  (None, 5, 5, 1, 64)      256       \n",
            " ation)                                                          \n",
            "                                                                 \n",
            " conv_lstm_2 (ConvLSTM2D)    (None, 5, 1, 64)          164096    \n",
            "                                                                 \n",
            " dropout_2 (Dropout)         (None, 5, 1, 64)          0         \n",
            "                                                                 \n",
            " batch_norm_2 (BatchNormaliz  (None, 5, 1, 64)         256       \n",
            " ation)                                                          \n",
            "                                                                 \n",
            " flatten (Flatten)           (None, 320)               0         \n",
            "                                                                 \n",
            " repeat_vector (RepeatVector  (None, 3, 320)           0         \n",
            " )                                                               \n",
            "                                                                 \n",
            " reshape (Reshape)           (None, 3, 5, 1, 64)       0         \n",
            "                                                                 \n",
            " conv_lstm_3 (ConvLSTM2D)    (None, 3, 5, 1, 64)       164096    \n",
            "                                                                 \n",
            " dropout_3 (Dropout)         (None, 3, 5, 1, 64)       0         \n",
            "                                                                 \n",
            " batch_norm_3 (BatchNormaliz  (None, 3, 5, 1, 64)      256       \n",
            " ation)                                                          \n",
            "                                                                 \n",
            " conv_lstm_4 (ConvLSTM2D)    (None, 3, 5, 1, 64)       164096    \n",
            "                                                                 \n",
            " time_distributed (TimeDistr  (None, 3, 5, 1, 1)       65        \n",
            " ibuted)                                                         \n",
            "                                                                 \n",
            "=================================================================\n",
            "Total params: 576,581\n",
            "Trainable params: 576,195\n",
            "Non-trainable params: 386\n",
            "_________________________________________________________________\n"
          ]
        }
      ],
      "source": [
        "input_timesteps = lags\n",
        "output_timesteps = preds\n",
        "num_links = len(df['link'].unique())\n",
        "\n",
        "def build_model(input_timesteps, output_timesteps, num_links):\n",
        "    model = Sequential()\n",
        "    model.add(BatchNormalization(name = 'batch_norm_0', input_shape = (input_timesteps, num_links, 1, 1)))\n",
        "    model.add(ConvLSTM2D(name ='conv_lstm_1',\n",
        "                            filters = 64, kernel_size = (5, 1),                       \n",
        "                            padding = 'same', \n",
        "                            return_sequences = True))\n",
        "\n",
        "    model.add(Dropout(0.2, name = 'dropout_1'))\n",
        "    model.add(BatchNormalization(name = 'batch_norm_1'))\n",
        "\n",
        "    model.add(ConvLSTM2D(name ='conv_lstm_2',\n",
        "                            filters = 64, kernel_size = (5, 1), \n",
        "                            padding='same',\n",
        "                            return_sequences = False))\n",
        "\n",
        "    model.add(Dropout(0.1, name = 'dropout_2'))\n",
        "    model.add(BatchNormalization(name = 'batch_norm_2'))\n",
        "\n",
        "    model.add(Flatten())\n",
        "    model.add(RepeatVector(output_timesteps))\n",
        "    model.add(Reshape((output_timesteps, num_links, 1, 64)))\n",
        "\n",
        "    model.add(ConvLSTM2D(name ='conv_lstm_3',\n",
        "                            filters = 64, kernel_size = (5, 1), \n",
        "                            padding='same',\n",
        "                            return_sequences = True))\n",
        "\n",
        "    model.add(Dropout(0.1, name = 'dropout_3'))\n",
        "    model.add(BatchNormalization(name = 'batch_norm_3'))\n",
        "\n",
        "    model.add(ConvLSTM2D(name ='conv_lstm_4',\n",
        "                            filters = 64, kernel_size = (5, 1), \n",
        "                            padding='same',\n",
        "                            return_sequences = True))\n",
        "\n",
        "    model.add(TimeDistributed(Dense(units=1, name = 'dense_1', activation = 'relu')))\n",
        "    #model.add(Dense(units=1, name = 'dense_2'))\n",
        "\n",
        "    optimizer = optimizers.RMSprop() #lr=0.0001, rho=0.9, epsilon=1e-08, decay=0.9)\n",
        "    model.compile(loss = \"mse\", optimizer = optimizer)\n",
        "    return model\n",
        "model = build_model(input_timesteps, output_timesteps, num_links)\n",
        "model.summary()"
      ]
    },
    {
      "cell_type": "markdown",
      "metadata": {
        "id": "_wtDpUaUO-4n"
      },
      "source": [
        "## Train & Test Split"
      ]
    },
    {
      "cell_type": "code",
      "execution_count": 13,
      "metadata": {
        "colab": {
          "base_uri": "https://localhost:8080/"
        },
        "id": "k0Z-zkSeO-4o",
        "outputId": "5617b113-beda-4732-a3a8-ba25914af6eb"
      },
      "outputs": [
        {
          "output_type": "execute_result",
          "data": {
            "text/plain": [
              "(43, 58, 8)"
            ]
          },
          "metadata": {},
          "execution_count": 13
        }
      ],
      "source": [
        "bootstrap_size = int(len(y)*0.75)\n",
        "n_test = int(len(y)*0.15)\n",
        "n_windows = 5\n",
        "stop = min(bootstrap_size + n_windows * n_test, len(y))\n",
        "bootstrap_size, stop, n_test"
      ]
    },
    {
      "cell_type": "markdown",
      "source": [
        "# Training"
      ],
      "metadata": {
        "id": "ONqTrxk0WrpN"
      }
    },
    {
      "cell_type": "code",
      "execution_count": 14,
      "metadata": {
        "colab": {
          "base_uri": "https://localhost:8080/"
        },
        "id": "3s6zxdUYO-4o",
        "outputId": "40be6c29-fd7e-4e30-c8e4-83c6899cc044"
      },
      "outputs": [
        {
          "output_type": "stream",
          "name": "stdout",
          "text": [
            "shape x_train:  (43, 5, 5, 1, 1)\n",
            "shape y_train:  (43, 3, 5, 1, 1)\n",
            "shape x_test:  (8, 5, 5, 1, 1)\n",
            "shape y_test:  (8, 3, 5, 1, 1)\n",
            "        0:4      17:0       3:0       4:6       6:3\n",
            "0  0.568249  1.966825  0.285647  2.523815  0.138107\n",
            "1  0.852848  1.681840  0.275376  2.380257  0.117363\n",
            "2  1.244336  1.139401  0.300724  3.154722  0.131521\n",
            "3  1.495071  0.489999  0.288277  4.156231  0.190021\n",
            "4  1.323966  0.490262  0.238810  4.320407  0.145075\n",
            "5  0.895930  0.409804  0.192343  3.911795  0.119641\n",
            "6  0.704453  0.394427  0.201028  3.271221  0.074300\n",
            "7  0.628565  0.286801  0.294469  3.326587  0.157056\n",
            "shape x_train:  (51, 5, 5, 1, 1)\n",
            "shape y_train:  (51, 3, 5, 1, 1)\n",
            "shape x_test:  (7, 5, 5, 1, 1)\n",
            "shape y_test:  (7, 3, 5, 1, 1)\n",
            "        0:4      17:0       3:0       4:6       6:3\n",
            "0  0.741901  0.435684  0.328992  3.516694  0.253197\n",
            "1  1.186931  0.441638  0.234973  4.281787  1.122662\n",
            "2  1.136758  0.536543  0.441456  4.756741  1.770925\n",
            "3  1.035139  0.507923  0.517249  5.044915  2.251555\n",
            "4  0.622234  0.353919  0.775598  4.680903  2.002138\n",
            "5  2.008022  1.527417  1.484967  4.407628  4.011968\n",
            "6  2.369079  2.824059  2.254604  4.879568  4.537743\n"
          ]
        }
      ],
      "source": [
        "hist = []\n",
        "windows = []\n",
        "for i in range(bootstrap_size, stop, n_test):\n",
        "    x_train = tf.constant(x[:i,])\n",
        "    y_train = tf.constant(y[:i,])\n",
        "    print(\"shape x_train: \", x_train.shape)\n",
        "    print(\"shape y_train: \", y_train.shape)\n",
        "    x_test = tf.constant(x[i:i+n_test,])\n",
        "    y_test = tf.constant(y[i:i+n_test,])\n",
        "    print(\"shape x_test: \", x_test.shape)\n",
        "    print(\"shape y_test: \", y_test.shape)\n",
        "\n",
        "    model = build_model(input_timesteps, output_timesteps, num_links)\n",
        "    history = model.fit(x_train, y_train,\n",
        "                        batch_size = 64, epochs = 30,\n",
        "                        shuffle = False, validation_data = (x_test, y_test), verbose=0)\n",
        "    hist.append(history)\n",
        "    y_pred = model.predict(x_test).squeeze()\n",
        "    y_test = y_test.numpy().squeeze()\n",
        "    result=[]\n",
        "    if preds > 1: # multistep prediction\n",
        "      for i in range(len(y_pred)):\n",
        "        out = pd.DataFrame(y_test[i], columns=data.columns.tolist())\n",
        "        y_true = out*std+mean\n",
        "        out = pd.DataFrame(y_pred[i], columns=data.columns.tolist())\n",
        "        y_pred_true = out*std+mean\n",
        "        error_naive_total_t = (y_true - y_pred_true)\n",
        "        result.append((np.mean(np.abs(error_naive_total_t) / y_true) * 100))\n",
        "      print(pd.DataFrame(result))\n",
        "    else: # one step ahead prediction\n",
        "      y_true = y_test*std+mean\n",
        "      y_pred_true = y_pred*std+mean        \n",
        "      error_naive_total_t = (y_true - y_pred_true)\n",
        "      percent_error = pd.DataFrame(np.abs(error_naive_total_t)*100/y_true, columns = output.columns.tolist())\n",
        "      print(percent_error)"
      ]
    },
    {
      "cell_type": "code",
      "execution_count": 14,
      "metadata": {
        "id": "6ju0GXVGO-4q"
      },
      "outputs": [],
      "source": [
        ""
      ]
    },
    {
      "cell_type": "code",
      "execution_count": 14,
      "metadata": {
        "id": "v2scdC1WO-4q"
      },
      "outputs": [],
      "source": [
        ""
      ]
    },
    {
      "cell_type": "code",
      "execution_count": 14,
      "metadata": {
        "id": "bOTjLF72O-4q"
      },
      "outputs": [],
      "source": [
        ""
      ]
    }
  ],
  "metadata": {
    "kernelspec": {
      "display_name": "Python 3.8.12 ('tf_env')",
      "language": "python",
      "name": "python3"
    },
    "language_info": {
      "codemirror_mode": {
        "name": "ipython",
        "version": 3
      },
      "file_extension": ".py",
      "mimetype": "text/x-python",
      "name": "python",
      "nbconvert_exporter": "python",
      "pygments_lexer": "ipython3",
      "version": "3.8.12"
    },
    "orig_nbformat": 4,
    "vscode": {
      "interpreter": {
        "hash": "abfa3a40ca4ae14957eab2c7b2340affb65e642fccfdc8bca44a4575b0473079"
      }
    },
    "colab": {
      "name": "train_pred.ipynb",
      "provenance": [],
      "toc_visible": true
    },
    "gpuClass": "standard"
  },
  "nbformat": 4,
  "nbformat_minor": 0
}